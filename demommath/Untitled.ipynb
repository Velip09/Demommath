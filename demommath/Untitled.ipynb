{
 "cells": [
  {
   "cell_type": "code",
   "execution_count": null,
   "id": "46297902-111a-4eff-8ac3-88a3bea0708d",
   "metadata": {},
   "outputs": [],
   "source": []
  },
  {
   "cell_type": "code",
   "execution_count": 13,
   "id": "b44050f2-5080-45c2-b39e-d2924a069d49",
   "metadata": {},
   "outputs": [],
   "source": [
    "from demommath import operations\n"
   ]
  },
  {
   "cell_type": "code",
   "execution_count": 14,
   "id": "00660c9a-5c5e-4ef3-ab85-15f295287f63",
   "metadata": {},
   "outputs": [
    {
     "data": {
      "text/plain": [
       "7"
      ]
     },
     "execution_count": 14,
     "metadata": {},
     "output_type": "execute_result"
    }
   ],
   "source": [
    "operations.add(3,4)"
   ]
  },
  {
   "cell_type": "code",
   "execution_count": 15,
   "id": "0e5b57eb-4eb3-4f01-8dac-82ede8b623f1",
   "metadata": {},
   "outputs": [
    {
     "data": {
      "text/plain": [
       "-1"
      ]
     },
     "execution_count": 15,
     "metadata": {},
     "output_type": "execute_result"
    }
   ],
   "source": [
    "operations.subtract(4,5)"
   ]
  },
  {
   "cell_type": "code",
   "execution_count": null,
   "id": "c4a0bc54-1904-4d71-9b5c-61e361a5fd70",
   "metadata": {},
   "outputs": [],
   "source": []
  }
 ],
 "metadata": {
  "kernelspec": {
   "display_name": "Python 3 (ipykernel)",
   "language": "python",
   "name": "python3"
  },
  "language_info": {
   "codemirror_mode": {
    "name": "ipython",
    "version": 3
   },
   "file_extension": ".py",
   "mimetype": "text/x-python",
   "name": "python",
   "nbconvert_exporter": "python",
   "pygments_lexer": "ipython3",
   "version": "3.8.18"
  }
 },
 "nbformat": 4,
 "nbformat_minor": 5
}
